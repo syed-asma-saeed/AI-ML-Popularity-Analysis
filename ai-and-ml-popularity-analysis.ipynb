{
 "cells": [
  {
   "cell_type": "code",
   "execution_count": 1,
   "id": "d96b27d6",
   "metadata": {
    "_cell_guid": "b1076dfc-b9ad-4769-8c92-a6c4dae69d19",
    "_uuid": "8f2839f25d086af736a60e9eeb907d3b93b6e0e5",
    "execution": {
     "iopub.execute_input": "2024-06-29T14:21:25.308615Z",
     "iopub.status.busy": "2024-06-29T14:21:25.308174Z",
     "iopub.status.idle": "2024-06-29T14:21:26.237980Z",
     "shell.execute_reply": "2024-06-29T14:21:26.236817Z"
    },
    "papermill": {
     "duration": 0.940199,
     "end_time": "2024-06-29T14:21:26.240870",
     "exception": false,
     "start_time": "2024-06-29T14:21:25.300671",
     "status": "completed"
    },
    "tags": []
   },
   "outputs": [
    {
     "name": "stdout",
     "output_type": "stream",
     "text": [
      "/kaggle/input/ai-and-ml-popularity-indexanalyzing-global-trends/Ai and Ml popularity.csv\n"
     ]
    }
   ],
   "source": [
    "# This Python 3 environment comes with many helpful analytics libraries installed\n",
    "# It is defined by the kaggle/python Docker image: https://github.com/kaggle/docker-python\n",
    "# For example, here's several helpful packages to load\n",
    "\n",
    "import numpy as np # linear algebra\n",
    "import pandas as pd # data processing, CSV file I/O (e.g. pd.read_csv)\n",
    "\n",
    "# Input data files are available in the read-only \"../input/\" directory\n",
    "# For example, running this (by clicking run or pressing Shift+Enter) will list all files under the input directory\n",
    "\n",
    "import os\n",
    "for dirname, _, filenames in os.walk('/kaggle/input'):\n",
    "    for filename in filenames:\n",
    "        print(os.path.join(dirname, filename))\n",
    "\n",
    "# You can write up to 20GB to the current directory (/kaggle/working/) that gets preserved as output when you create a version using \"Save & Run All\" \n",
    "# You can also write temporary files to /kaggle/temp/, but they won't be saved outside of the current session"
   ]
  },
  {
   "cell_type": "code",
   "execution_count": 2,
   "id": "e977fe05",
   "metadata": {
    "execution": {
     "iopub.execute_input": "2024-06-29T14:21:26.253010Z",
     "iopub.status.busy": "2024-06-29T14:21:26.252500Z",
     "iopub.status.idle": "2024-06-29T14:21:28.055292Z",
     "shell.execute_reply": "2024-06-29T14:21:28.054033Z"
    },
    "papermill": {
     "duration": 1.812134,
     "end_time": "2024-06-29T14:21:28.058324",
     "exception": false,
     "start_time": "2024-06-29T14:21:26.246190",
     "status": "completed"
    },
    "tags": []
   },
   "outputs": [],
   "source": [
    "import numpy as np\n",
    "import pandas as pd\n",
    "import matplotlib.pyplot as plt\n",
    "import seaborn as sns\n",
    "from sklearn.model_selection import train_test_split\n",
    "from sklearn.preprocessing import StandardScaler\n",
    "\n",
    "# to avoid warnings\n",
    "import warnings\n",
    "warnings.filterwarnings('ignore')"
   ]
  },
  {
   "cell_type": "code",
   "execution_count": 3,
   "id": "832deaed",
   "metadata": {
    "execution": {
     "iopub.execute_input": "2024-06-29T14:21:28.070469Z",
     "iopub.status.busy": "2024-06-29T14:21:28.070046Z",
     "iopub.status.idle": "2024-06-29T14:21:28.089284Z",
     "shell.execute_reply": "2024-06-29T14:21:28.088171Z"
    },
    "papermill": {
     "duration": 0.028952,
     "end_time": "2024-06-29T14:21:28.092527",
     "exception": false,
     "start_time": "2024-06-29T14:21:28.063575",
     "status": "completed"
    },
    "tags": []
   },
   "outputs": [],
   "source": [
    "df=pd.read_csv('/kaggle/input/ai-and-ml-popularity-indexanalyzing-global-trends/Ai and Ml popularity.csv', encoding='latin')"
   ]
  },
  {
   "cell_type": "code",
   "execution_count": 4,
   "id": "27cc0f2c",
   "metadata": {
    "execution": {
     "iopub.execute_input": "2024-06-29T14:21:28.104525Z",
     "iopub.status.busy": "2024-06-29T14:21:28.104112Z",
     "iopub.status.idle": "2024-06-29T14:21:28.141175Z",
     "shell.execute_reply": "2024-06-29T14:21:28.139859Z"
    },
    "papermill": {
     "duration": 0.046457,
     "end_time": "2024-06-29T14:21:28.144145",
     "exception": false,
     "start_time": "2024-06-29T14:21:28.097688",
     "status": "completed"
    },
    "tags": []
   },
   "outputs": [
    {
     "data": {
      "text/html": [
       "<div>\n",
       "<style scoped>\n",
       "    .dataframe tbody tr th:only-of-type {\n",
       "        vertical-align: middle;\n",
       "    }\n",
       "\n",
       "    .dataframe tbody tr th {\n",
       "        vertical-align: top;\n",
       "    }\n",
       "\n",
       "    .dataframe thead th {\n",
       "        text-align: right;\n",
       "    }\n",
       "</style>\n",
       "<table border=\"1\" class=\"dataframe\">\n",
       "  <thead>\n",
       "    <tr style=\"text-align: right;\">\n",
       "      <th></th>\n",
       "      <th>Country</th>\n",
       "      <th>Ai and ML(Popularity)</th>\n",
       "      <th>City</th>\n",
       "      <th>Ai and ML(Popularity).1</th>\n",
       "      <th>Top (Searches)</th>\n",
       "      <th>Popularity</th>\n",
       "      <th>Rising (Searches)</th>\n",
       "      <th>Rising (Searches) Percentage</th>\n",
       "      <th>Top (Searches).1</th>\n",
       "      <th>Popularity.1</th>\n",
       "      <th>Rising (Searches).1</th>\n",
       "      <th>Rising (Searches) Percentage.1</th>\n",
       "    </tr>\n",
       "  </thead>\n",
       "  <tbody>\n",
       "    <tr>\n",
       "      <th>0</th>\n",
       "      <td>Tuvalu</td>\n",
       "      <td>NaN</td>\n",
       "      <td>Sapror</td>\n",
       "      <td>100.0</td>\n",
       "      <td>Artificial intelligence</td>\n",
       "      <td>100.0</td>\n",
       "      <td>Character.ai</td>\n",
       "      <td>5000%</td>\n",
       "      <td>ai character</td>\n",
       "      <td>100.0</td>\n",
       "      <td>chatgpt</td>\n",
       "      <td>5000%</td>\n",
       "    </tr>\n",
       "    <tr>\n",
       "      <th>1</th>\n",
       "      <td>Vietnam</td>\n",
       "      <td>100.0</td>\n",
       "      <td>Sil Kapra</td>\n",
       "      <td>74.0</td>\n",
       "      <td>Character.ai</td>\n",
       "      <td>14.0</td>\n",
       "      <td>ChatGPT</td>\n",
       "      <td>5000%</td>\n",
       "      <td>ai generator</td>\n",
       "      <td>48.0</td>\n",
       "      <td>chatgpt ai</td>\n",
       "      <td>5000%</td>\n",
       "    </tr>\n",
       "    <tr>\n",
       "      <th>2</th>\n",
       "      <td>China</td>\n",
       "      <td>72.0</td>\n",
       "      <td>Stanford</td>\n",
       "      <td>72.0</td>\n",
       "      <td>Online chat</td>\n",
       "      <td>5.0</td>\n",
       "      <td>Gemini</td>\n",
       "      <td>5000%</td>\n",
       "      <td>ai image</td>\n",
       "      <td>33.0</td>\n",
       "      <td>chat gpt</td>\n",
       "      <td>5000%</td>\n",
       "    </tr>\n",
       "    <tr>\n",
       "      <th>3</th>\n",
       "      <td>Romania</td>\n",
       "      <td>63.0</td>\n",
       "      <td>Shenzhen</td>\n",
       "      <td>58.0</td>\n",
       "      <td>OpenAI</td>\n",
       "      <td>4.0</td>\n",
       "      <td>AI Chatbot</td>\n",
       "      <td>5000%</td>\n",
       "      <td>ai chat</td>\n",
       "      <td>30.0</td>\n",
       "      <td>chat gpt ai</td>\n",
       "      <td>5000%</td>\n",
       "    </tr>\n",
       "    <tr>\n",
       "      <th>4</th>\n",
       "      <td>Samoa</td>\n",
       "      <td>NaN</td>\n",
       "      <td>Shanghai</td>\n",
       "      <td>57.0</td>\n",
       "      <td>ChatGPT</td>\n",
       "      <td>3.0</td>\n",
       "      <td>Midjourney</td>\n",
       "      <td>5000%</td>\n",
       "      <td>google ai</td>\n",
       "      <td>26.0</td>\n",
       "      <td>bard ai</td>\n",
       "      <td>5000%</td>\n",
       "    </tr>\n",
       "    <tr>\n",
       "      <th>5</th>\n",
       "      <td>Italy</td>\n",
       "      <td>54.0</td>\n",
       "      <td>Guangzhou</td>\n",
       "      <td>55.0</td>\n",
       "      <td>Gemini</td>\n",
       "      <td>3.0</td>\n",
       "      <td>Perplexity.ai</td>\n",
       "      <td>5000%</td>\n",
       "      <td>open ai</td>\n",
       "      <td>21.0</td>\n",
       "      <td>bard</td>\n",
       "      <td>5000%</td>\n",
       "    </tr>\n",
       "    <tr>\n",
       "      <th>6</th>\n",
       "      <td>Myanmar (Burma)</td>\n",
       "      <td>51.0</td>\n",
       "      <td>Beijing</td>\n",
       "      <td>54.0</td>\n",
       "      <td>Leaf</td>\n",
       "      <td>3.0</td>\n",
       "      <td>Generative artificial intelligence</td>\n",
       "      <td>5000%</td>\n",
       "      <td>chatgpt ai</td>\n",
       "      <td>19.0</td>\n",
       "      <td>midjourney</td>\n",
       "      <td>5000%</td>\n",
       "    </tr>\n",
       "    <tr>\n",
       "      <th>7</th>\n",
       "      <td>Eritrea</td>\n",
       "      <td>NaN</td>\n",
       "      <td>Palo Alto</td>\n",
       "      <td>45.0</td>\n",
       "      <td>Artificial intelligence art</td>\n",
       "      <td>3.0</td>\n",
       "      <td>Microsoft Copilot</td>\n",
       "      <td>5000%</td>\n",
       "      <td>chatgpt</td>\n",
       "      <td>19.0</td>\n",
       "      <td>midjourney ai</td>\n",
       "      <td>5000%</td>\n",
       "    </tr>\n",
       "    <tr>\n",
       "      <th>8</th>\n",
       "      <td>American Samoa</td>\n",
       "      <td>NaN</td>\n",
       "      <td>Juja</td>\n",
       "      <td>43.0</td>\n",
       "      <td>AI Chatbot</td>\n",
       "      <td>2.0</td>\n",
       "      <td>DALL-E</td>\n",
       "      <td>5000%</td>\n",
       "      <td>what is ai</td>\n",
       "      <td>17.0</td>\n",
       "      <td>perplexity ai</td>\n",
       "      <td>5000%</td>\n",
       "    </tr>\n",
       "    <tr>\n",
       "      <th>9</th>\n",
       "      <td>Solomon Islands</td>\n",
       "      <td>NaN</td>\n",
       "      <td>Seongnam-si</td>\n",
       "      <td>41.0</td>\n",
       "      <td>Microsoft Bing</td>\n",
       "      <td>2.0</td>\n",
       "      <td>Adobe</td>\n",
       "      <td>5000%</td>\n",
       "      <td>gpt ai</td>\n",
       "      <td>17.0</td>\n",
       "      <td>perplexity</td>\n",
       "      <td>5000%</td>\n",
       "    </tr>\n",
       "  </tbody>\n",
       "</table>\n",
       "</div>"
      ],
      "text/plain": [
       "           Country  Ai and ML(Popularity)         City  \\\n",
       "0           Tuvalu                    NaN       Sapror   \n",
       "1          Vietnam                  100.0    Sil Kapra   \n",
       "2            China                   72.0     Stanford   \n",
       "3          Romania                   63.0     Shenzhen   \n",
       "4            Samoa                    NaN     Shanghai   \n",
       "5            Italy                   54.0    Guangzhou   \n",
       "6  Myanmar (Burma)                   51.0      Beijing   \n",
       "7          Eritrea                    NaN    Palo Alto   \n",
       "8   American Samoa                    NaN         Juja   \n",
       "9  Solomon Islands                    NaN  Seongnam-si   \n",
       "\n",
       "   Ai and ML(Popularity).1               Top (Searches)  Popularity  \\\n",
       "0                    100.0      Artificial intelligence       100.0   \n",
       "1                     74.0                 Character.ai        14.0   \n",
       "2                     72.0                  Online chat         5.0   \n",
       "3                     58.0                       OpenAI         4.0   \n",
       "4                     57.0                      ChatGPT         3.0   \n",
       "5                     55.0                       Gemini         3.0   \n",
       "6                     54.0                         Leaf         3.0   \n",
       "7                     45.0  Artificial intelligence art         3.0   \n",
       "8                     43.0                   AI Chatbot         2.0   \n",
       "9                     41.0               Microsoft Bing         2.0   \n",
       "\n",
       "                    Rising (Searches) Rising (Searches) Percentage  \\\n",
       "0                        Character.ai                        5000%   \n",
       "1                             ChatGPT                        5000%   \n",
       "2                              Gemini                        5000%   \n",
       "3                          AI Chatbot                        5000%   \n",
       "4                          Midjourney                        5000%   \n",
       "5                       Perplexity.ai                        5000%   \n",
       "6  Generative artificial intelligence                        5000%   \n",
       "7                   Microsoft Copilot                        5000%   \n",
       "8                              DALL-E                        5000%   \n",
       "9                               Adobe                        5000%   \n",
       "\n",
       "  Top (Searches).1  Popularity.1 Rising (Searches).1  \\\n",
       "0     ai character         100.0             chatgpt   \n",
       "1     ai generator          48.0          chatgpt ai   \n",
       "2         ai image          33.0            chat gpt   \n",
       "3          ai chat          30.0         chat gpt ai   \n",
       "4        google ai          26.0             bard ai   \n",
       "5          open ai          21.0                bard   \n",
       "6       chatgpt ai          19.0          midjourney   \n",
       "7          chatgpt          19.0       midjourney ai   \n",
       "8       what is ai          17.0       perplexity ai   \n",
       "9           gpt ai          17.0          perplexity   \n",
       "\n",
       "  Rising (Searches) Percentage.1  \n",
       "0                          5000%  \n",
       "1                          5000%  \n",
       "2                          5000%  \n",
       "3                          5000%  \n",
       "4                          5000%  \n",
       "5                          5000%  \n",
       "6                          5000%  \n",
       "7                          5000%  \n",
       "8                          5000%  \n",
       "9                          5000%  "
      ]
     },
     "execution_count": 4,
     "metadata": {},
     "output_type": "execute_result"
    }
   ],
   "source": [
    "df.head(10)"
   ]
  },
  {
   "cell_type": "markdown",
   "id": "81614fa6",
   "metadata": {
    "papermill": {
     "duration": 0.005083,
     "end_time": "2024-06-29T14:21:28.154811",
     "exception": false,
     "start_time": "2024-06-29T14:21:28.149728",
     "status": "completed"
    },
    "tags": []
   },
   "source": [
    "Preprocessing"
   ]
  },
  {
   "cell_type": "code",
   "execution_count": 5,
   "id": "33adf7ad",
   "metadata": {
    "execution": {
     "iopub.execute_input": "2024-06-29T14:21:28.167325Z",
     "iopub.status.busy": "2024-06-29T14:21:28.166945Z",
     "iopub.status.idle": "2024-06-29T14:21:28.197208Z",
     "shell.execute_reply": "2024-06-29T14:21:28.195957Z"
    },
    "papermill": {
     "duration": 0.039501,
     "end_time": "2024-06-29T14:21:28.199736",
     "exception": false,
     "start_time": "2024-06-29T14:21:28.160235",
     "status": "completed"
    },
    "tags": []
   },
   "outputs": [
    {
     "data": {
      "text/html": [
       "<div>\n",
       "<style scoped>\n",
       "    .dataframe tbody tr th:only-of-type {\n",
       "        vertical-align: middle;\n",
       "    }\n",
       "\n",
       "    .dataframe tbody tr th {\n",
       "        vertical-align: top;\n",
       "    }\n",
       "\n",
       "    .dataframe thead th {\n",
       "        text-align: right;\n",
       "    }\n",
       "</style>\n",
       "<table border=\"1\" class=\"dataframe\">\n",
       "  <thead>\n",
       "    <tr style=\"text-align: right;\">\n",
       "      <th></th>\n",
       "      <th>Country</th>\n",
       "      <th>Country_Popularity</th>\n",
       "      <th>City</th>\n",
       "      <th>City_Popularity</th>\n",
       "      <th>Top_Searches</th>\n",
       "      <th>Top_Searches_Popularity</th>\n",
       "    </tr>\n",
       "  </thead>\n",
       "  <tbody>\n",
       "    <tr>\n",
       "      <th>0</th>\n",
       "      <td>Tuvalu</td>\n",
       "      <td>NaN</td>\n",
       "      <td>Sapror</td>\n",
       "      <td>100.0</td>\n",
       "      <td>Artificial intelligence</td>\n",
       "      <td>100.0</td>\n",
       "    </tr>\n",
       "    <tr>\n",
       "      <th>1</th>\n",
       "      <td>Vietnam</td>\n",
       "      <td>100.0</td>\n",
       "      <td>Sil Kapra</td>\n",
       "      <td>74.0</td>\n",
       "      <td>Character.ai</td>\n",
       "      <td>14.0</td>\n",
       "    </tr>\n",
       "    <tr>\n",
       "      <th>2</th>\n",
       "      <td>China</td>\n",
       "      <td>72.0</td>\n",
       "      <td>Stanford</td>\n",
       "      <td>72.0</td>\n",
       "      <td>Online chat</td>\n",
       "      <td>5.0</td>\n",
       "    </tr>\n",
       "    <tr>\n",
       "      <th>3</th>\n",
       "      <td>Romania</td>\n",
       "      <td>63.0</td>\n",
       "      <td>Shenzhen</td>\n",
       "      <td>58.0</td>\n",
       "      <td>OpenAI</td>\n",
       "      <td>4.0</td>\n",
       "    </tr>\n",
       "    <tr>\n",
       "      <th>4</th>\n",
       "      <td>Samoa</td>\n",
       "      <td>NaN</td>\n",
       "      <td>Shanghai</td>\n",
       "      <td>57.0</td>\n",
       "      <td>ChatGPT</td>\n",
       "      <td>3.0</td>\n",
       "    </tr>\n",
       "    <tr>\n",
       "      <th>...</th>\n",
       "      <td>...</td>\n",
       "      <td>...</td>\n",
       "      <td>...</td>\n",
       "      <td>...</td>\n",
       "      <td>...</td>\n",
       "      <td>...</td>\n",
       "    </tr>\n",
       "    <tr>\n",
       "      <th>245</th>\n",
       "      <td>Tokelau</td>\n",
       "      <td>NaN</td>\n",
       "      <td>NaN</td>\n",
       "      <td>NaN</td>\n",
       "      <td>NaN</td>\n",
       "      <td>NaN</td>\n",
       "    </tr>\n",
       "    <tr>\n",
       "      <th>246</th>\n",
       "      <td>Bouvet Island</td>\n",
       "      <td>NaN</td>\n",
       "      <td>NaN</td>\n",
       "      <td>NaN</td>\n",
       "      <td>NaN</td>\n",
       "      <td>NaN</td>\n",
       "    </tr>\n",
       "    <tr>\n",
       "      <th>247</th>\n",
       "      <td>Norfolk Island</td>\n",
       "      <td>NaN</td>\n",
       "      <td>NaN</td>\n",
       "      <td>NaN</td>\n",
       "      <td>NaN</td>\n",
       "      <td>NaN</td>\n",
       "    </tr>\n",
       "    <tr>\n",
       "      <th>248</th>\n",
       "      <td>South Georgia &amp; South Sandwich Islands</td>\n",
       "      <td>NaN</td>\n",
       "      <td>NaN</td>\n",
       "      <td>NaN</td>\n",
       "      <td>NaN</td>\n",
       "      <td>NaN</td>\n",
       "    </tr>\n",
       "    <tr>\n",
       "      <th>249</th>\n",
       "      <td>U.S. Outlying Islands</td>\n",
       "      <td>NaN</td>\n",
       "      <td>NaN</td>\n",
       "      <td>NaN</td>\n",
       "      <td>NaN</td>\n",
       "      <td>NaN</td>\n",
       "    </tr>\n",
       "  </tbody>\n",
       "</table>\n",
       "<p>250 rows × 6 columns</p>\n",
       "</div>"
      ],
      "text/plain": [
       "                                    Country  Country_Popularity       City  \\\n",
       "0                                    Tuvalu                 NaN     Sapror   \n",
       "1                                   Vietnam               100.0  Sil Kapra   \n",
       "2                                     China                72.0   Stanford   \n",
       "3                                   Romania                63.0   Shenzhen   \n",
       "4                                     Samoa                 NaN   Shanghai   \n",
       "..                                      ...                 ...        ...   \n",
       "245                                 Tokelau                 NaN        NaN   \n",
       "246                           Bouvet Island                 NaN        NaN   \n",
       "247                          Norfolk Island                 NaN        NaN   \n",
       "248  South Georgia & South Sandwich Islands                 NaN        NaN   \n",
       "249                   U.S. Outlying Islands                 NaN        NaN   \n",
       "\n",
       "     City_Popularity             Top_Searches  Top_Searches_Popularity  \n",
       "0              100.0  Artificial intelligence                    100.0  \n",
       "1               74.0             Character.ai                     14.0  \n",
       "2               72.0              Online chat                      5.0  \n",
       "3               58.0                   OpenAI                      4.0  \n",
       "4               57.0                  ChatGPT                      3.0  \n",
       "..               ...                      ...                      ...  \n",
       "245              NaN                      NaN                      NaN  \n",
       "246              NaN                      NaN                      NaN  \n",
       "247              NaN                      NaN                      NaN  \n",
       "248              NaN                      NaN                      NaN  \n",
       "249              NaN                      NaN                      NaN  \n",
       "\n",
       "[250 rows x 6 columns]"
      ]
     },
     "execution_count": 5,
     "metadata": {},
     "output_type": "execute_result"
    }
   ],
   "source": [
    "df.rename(columns={\n",
    "    'Ai and ML(Popularity)':'Country_Popularity',\n",
    "    'Ai and ML(Popularity).1':'City_Popularity',\n",
    "    'Top (Searches)':'Top_Searches',\n",
    "    'Popularity':'Top_Searches_Popularity'\n",
    "}, inplace=True)\n",
    "df.drop(columns=['Rising (Searches)','Rising (Searches) Percentage','Top (Searches).1','Popularity.1','Rising (Searches).1','Rising (Searches) Percentage.1'],inplace=True)\n",
    "df"
   ]
  },
  {
   "cell_type": "code",
   "execution_count": 6,
   "id": "be4e58ae",
   "metadata": {
    "execution": {
     "iopub.execute_input": "2024-06-29T14:21:28.213744Z",
     "iopub.status.busy": "2024-06-29T14:21:28.213315Z",
     "iopub.status.idle": "2024-06-29T14:21:28.223115Z",
     "shell.execute_reply": "2024-06-29T14:21:28.222093Z"
    },
    "papermill": {
     "duration": 0.019674,
     "end_time": "2024-06-29T14:21:28.225478",
     "exception": false,
     "start_time": "2024-06-29T14:21:28.205804",
     "status": "completed"
    },
    "tags": []
   },
   "outputs": [
    {
     "data": {
      "text/plain": [
       "Country                      0\n",
       "Country_Popularity         178\n",
       "City                        50\n",
       "City_Popularity             50\n",
       "Top_Searches               225\n",
       "Top_Searches_Popularity    225\n",
       "dtype: int64"
      ]
     },
     "execution_count": 6,
     "metadata": {},
     "output_type": "execute_result"
    }
   ],
   "source": [
    "df.isna().sum()"
   ]
  },
  {
   "cell_type": "code",
   "execution_count": 7,
   "id": "11ef8618",
   "metadata": {
    "execution": {
     "iopub.execute_input": "2024-06-29T14:21:28.239586Z",
     "iopub.status.busy": "2024-06-29T14:21:28.239154Z",
     "iopub.status.idle": "2024-06-29T14:21:28.252170Z",
     "shell.execute_reply": "2024-06-29T14:21:28.250858Z"
    },
    "papermill": {
     "duration": 0.022978,
     "end_time": "2024-06-29T14:21:28.254826",
     "exception": false,
     "start_time": "2024-06-29T14:21:28.231848",
     "status": "completed"
    },
    "tags": []
   },
   "outputs": [],
   "source": [
    "df['Country_Popularity'].fillna(df['Country_Popularity'].median(), inplace=True)\n",
    "df['City'].fillna('Unknown',inplace=True)\n",
    "df['City_Popularity'].fillna(df['City_Popularity'].median(), inplace=True)\n",
    "df['Top_Searches'].fillna('Unknown', inplace=True)\n",
    "df['Top_Searches_Popularity'].fillna(df['Top_Searches_Popularity'].median(), inplace=True)"
   ]
  },
  {
   "cell_type": "code",
   "execution_count": 8,
   "id": "ea6fb055",
   "metadata": {
    "execution": {
     "iopub.execute_input": "2024-06-29T14:21:28.269049Z",
     "iopub.status.busy": "2024-06-29T14:21:28.268255Z",
     "iopub.status.idle": "2024-06-29T14:21:28.293115Z",
     "shell.execute_reply": "2024-06-29T14:21:28.291657Z"
    },
    "papermill": {
     "duration": 0.034671,
     "end_time": "2024-06-29T14:21:28.295575",
     "exception": false,
     "start_time": "2024-06-29T14:21:28.260904",
     "status": "completed"
    },
    "tags": []
   },
   "outputs": [
    {
     "data": {
      "text/html": [
       "<div>\n",
       "<style scoped>\n",
       "    .dataframe tbody tr th:only-of-type {\n",
       "        vertical-align: middle;\n",
       "    }\n",
       "\n",
       "    .dataframe tbody tr th {\n",
       "        vertical-align: top;\n",
       "    }\n",
       "\n",
       "    .dataframe thead th {\n",
       "        text-align: right;\n",
       "    }\n",
       "</style>\n",
       "<table border=\"1\" class=\"dataframe\">\n",
       "  <thead>\n",
       "    <tr style=\"text-align: right;\">\n",
       "      <th></th>\n",
       "      <th>Country_Popularity</th>\n",
       "      <th>City_Popularity</th>\n",
       "      <th>Top_Searches_Popularity</th>\n",
       "    </tr>\n",
       "  </thead>\n",
       "  <tbody>\n",
       "    <tr>\n",
       "      <th>count</th>\n",
       "      <td>250.000000</td>\n",
       "      <td>250.000000</td>\n",
       "      <td>250.000000</td>\n",
       "    </tr>\n",
       "    <tr>\n",
       "      <th>mean</th>\n",
       "      <td>18.232000</td>\n",
       "      <td>28.176000</td>\n",
       "      <td>2.388000</td>\n",
       "    </tr>\n",
       "    <tr>\n",
       "      <th>std</th>\n",
       "      <td>8.680992</td>\n",
       "      <td>8.289989</td>\n",
       "      <td>6.266941</td>\n",
       "    </tr>\n",
       "    <tr>\n",
       "      <th>min</th>\n",
       "      <td>4.000000</td>\n",
       "      <td>21.000000</td>\n",
       "      <td>-1.000000</td>\n",
       "    </tr>\n",
       "    <tr>\n",
       "      <th>25%</th>\n",
       "      <td>17.000000</td>\n",
       "      <td>24.000000</td>\n",
       "      <td>2.000000</td>\n",
       "    </tr>\n",
       "    <tr>\n",
       "      <th>50%</th>\n",
       "      <td>17.000000</td>\n",
       "      <td>26.000000</td>\n",
       "      <td>2.000000</td>\n",
       "    </tr>\n",
       "    <tr>\n",
       "      <th>75%</th>\n",
       "      <td>17.000000</td>\n",
       "      <td>29.000000</td>\n",
       "      <td>2.000000</td>\n",
       "    </tr>\n",
       "    <tr>\n",
       "      <th>max</th>\n",
       "      <td>100.000000</td>\n",
       "      <td>100.000000</td>\n",
       "      <td>100.000000</td>\n",
       "    </tr>\n",
       "  </tbody>\n",
       "</table>\n",
       "</div>"
      ],
      "text/plain": [
       "       Country_Popularity  City_Popularity  Top_Searches_Popularity\n",
       "count          250.000000       250.000000               250.000000\n",
       "mean            18.232000        28.176000                 2.388000\n",
       "std              8.680992         8.289989                 6.266941\n",
       "min              4.000000        21.000000                -1.000000\n",
       "25%             17.000000        24.000000                 2.000000\n",
       "50%             17.000000        26.000000                 2.000000\n",
       "75%             17.000000        29.000000                 2.000000\n",
       "max            100.000000       100.000000               100.000000"
      ]
     },
     "execution_count": 8,
     "metadata": {},
     "output_type": "execute_result"
    }
   ],
   "source": [
    "df.describe()"
   ]
  },
  {
   "cell_type": "code",
   "execution_count": 9,
   "id": "1176275f",
   "metadata": {
    "execution": {
     "iopub.execute_input": "2024-06-29T14:21:28.310423Z",
     "iopub.status.busy": "2024-06-29T14:21:28.310009Z",
     "iopub.status.idle": "2024-06-29T14:21:28.338240Z",
     "shell.execute_reply": "2024-06-29T14:21:28.337107Z"
    },
    "papermill": {
     "duration": 0.038875,
     "end_time": "2024-06-29T14:21:28.340831",
     "exception": false,
     "start_time": "2024-06-29T14:21:28.301956",
     "status": "completed"
    },
    "tags": []
   },
   "outputs": [
    {
     "name": "stdout",
     "output_type": "stream",
     "text": [
      "           Country  Country_Popularity\n",
      "0          Vietnam               100.0\n",
      "1            China                72.0\n",
      "2          Romania                63.0\n",
      "3            Italy                54.0\n",
      "4  Myanmar (Burma)                51.0\n",
      "5      Philippines                44.0\n",
      "6      South Korea                39.0\n",
      "7        Singapore                35.0\n",
      "8         Pakistan                33.0\n",
      "9            Nepal                32.0\n",
      "          City  City_Popularity\n",
      "0       Sapror            100.0\n",
      "1    Sil Kapra             74.0\n",
      "2     Stanford             72.0\n",
      "3     Shenzhen             58.0\n",
      "4     Shanghai             57.0\n",
      "5    Guangzhou             55.0\n",
      "6      Beijing             54.0\n",
      "7    Palo Alto             45.0\n",
      "8         Juja             43.0\n",
      "9  Seongnam-si             41.0\n",
      "                  Top_Searches  Top_Searches_Popularity\n",
      "0      Artificial intelligence                    100.0\n",
      "1                 Character.ai                     14.0\n",
      "2                  Online chat                      5.0\n",
      "3                       OpenAI                      4.0\n",
      "4  Artificial intelligence art                      3.0\n",
      "5                      ChatGPT                      3.0\n",
      "6                       Gemini                      3.0\n",
      "7                         Leaf                      3.0\n",
      "8                   AI Chatbot                      2.0\n",
      "9                         Drum                      2.0\n"
     ]
    }
   ],
   "source": [
    "top_10_countries = df.groupby('Country')['Country_Popularity'].mean().nlargest(10).reset_index()\n",
    "print(top_10_countries)\n",
    "\n",
    "top_10_cities = df.groupby('City')['City_Popularity'].mean().nlargest(10).reset_index()\n",
    "print(top_10_cities)\n",
    "\n",
    "top_10_searches = df.groupby('Top_Searches')['Top_Searches_Popularity'].mean().nlargest(10).reset_index()\n",
    "print(top_10_searches)"
   ]
  },
  {
   "cell_type": "code",
   "execution_count": 10,
   "id": "914ad3e8",
   "metadata": {
    "execution": {
     "iopub.execute_input": "2024-06-29T14:21:28.357101Z",
     "iopub.status.busy": "2024-06-29T14:21:28.356728Z",
     "iopub.status.idle": "2024-06-29T14:21:29.427227Z",
     "shell.execute_reply": "2024-06-29T14:21:29.425965Z"
    },
    "papermill": {
     "duration": 1.081329,
     "end_time": "2024-06-29T14:21:29.430019",
     "exception": false,
     "start_time": "2024-06-29T14:21:28.348690",
     "status": "completed"
    },
    "tags": []
   },
   "outputs": [
    {
     "data": {
      "image/png": "[encoded data removed]",
      "text/plain": [
       "<Figure size 1500x500 with 1 Axes>"
      ]
     },
     "metadata": {},
     "output_type": "display_data"
    },
    {
     "data": {
      "image/png": "[encoded data removed]",
      "text/plain": [
       "<Figure size 1500x500 with 1 Axes>"
      ]
     },
     "metadata": {},
     "output_type": "display_data"
    },
    {
     "data": {
      "image/png": "[encoded data removed]",
      "text/plain": [
       "<Figure size 1500x500 with 1 Axes>"
      ]
     },
     "metadata": {},
     "output_type": "display_data"
    }
   ],
   "source": [
    "# Plot the popularity of AI and ML by country\n",
    "plt.figure(figsize=(15,5))\n",
    "sns.barplot(data=top_10_countries, x='Country', y='Country_Popularity')  # Replace 'Popularity' with the actual column name\n",
    "plt.title('Top 10 Countries by AI and ML Popularity')\n",
    "plt.show()\n",
    "\n",
    "# Plot the popularity of AI and ML by city\n",
    "plt.figure(figsize=(15,5))\n",
    "sns.barplot(data=top_10_cities, x='City', y='City_Popularity')   # Replace 'Popularity' with the actual column name\n",
    "plt.title('Top 10 Cities by AI and ML Popularity')\n",
    "plt.show()\n",
    "\n",
    "# Plot the popularity of AI and ML by searches\n",
    "plt.figure(figsize=(15,5))\n",
    "sns.barplot(data=top_10_searches, x='Top_Searches' , y='Top_Searches_Popularity', ci=None)\n",
    "plt.title('Top 10 AI and ML Seaches')\n",
    "plt.show()"
   ]
  },
  {
   "cell_type": "code",
   "execution_count": null,
   "id": "45288edd",
   "metadata": {
    "papermill": {
     "duration": 0.007804,
     "end_time": "2024-06-29T14:21:29.446294",
     "exception": false,
     "start_time": "2024-06-29T14:21:29.438490",
     "status": "completed"
    },
    "tags": []
   },
   "outputs": [],
   "source": []
  }
 ],
 "metadata": {
  "kaggle": {
   "accelerator": "none",
   "dataSources": [
    {
     "datasetId": 5131693,
     "sourceId": 8616708,
     "sourceType": "datasetVersion"
    }
   ],
   "dockerImageVersionId": 30732,
   "isGpuEnabled": false,
   "isInternetEnabled": false,
   "language": "python",
   "sourceType": "notebook"
  },
  "kernelspec": {
   "display_name": "Python 3",
   "language": "python",
   "name": "python3"
  },
  "language_info": {
   "codemirror_mode": {
    "name": "ipython",
    "version": 3
   },
   "file_extension": ".py",
   "mimetype": "text/x-python",
   "name": "python",
   "nbconvert_exporter": "python",
   "pygments_lexer": "ipython3",
   "version": "3.10.13"
  },
  "papermill": {
   "default_parameters": {},
   "duration": 7.888959,
   "end_time": "2024-06-29T14:21:30.077038",
   "environment_variables": {},
   "exception": null,
   "input_path": "__notebook__.ipynb",
   "output_path": "__notebook__.ipynb",
   "parameters": {},
   "start_time": "2024-06-29T14:21:22.188079",
   "version": "2.5.0"
  }
 },
 "nbformat": 4,
 "nbformat_minor": 5
}
